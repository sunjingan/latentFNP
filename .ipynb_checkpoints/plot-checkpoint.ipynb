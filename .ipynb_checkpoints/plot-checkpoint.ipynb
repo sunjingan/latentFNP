{
 "cells": [
  {
   "cell_type": "code",
   "execution_count": null,
   "id": "b006f89d-5d14-483c-8008-0420d4af87a3",
   "metadata": {},
   "outputs": [],
   "source": [
    "import pandas as pd\n",
    "import numpy as np\n",
    "import matplotlib.pyplot as plt\n",
    "\n",
    "import cartopy.crs as ccrs\n",
    "import cartopy.feature as cfeature"
   ]
  },
  {
   "cell_type": "code",
   "execution_count": null,
   "id": "f9f84b16-07ca-48c9-bda0-dc731c4815ca",
   "metadata": {},
   "outputs": [],
   "source": [
    "def plot_sample(self,gt,recons):\n",
    "    lat = np.linspace(-90, 90, 721)  # 纬度从 -90° 到 90°\n",
    "    lon = np.linspace(-180, 180, 1440)  # 经度从 -180° 到 180°\n",
    "    lon, lat = np.meshgrid(lon, lat)\n",
    "\n",
    "    # 创建地图\n",
    "    fig = plt.figure(figsize=(12, 6))\n",
    "    ax = plt.axes(projection=ccrs.PlateCarree())  # 使用 PlateCarree 投影（圆柱投影）\n",
    "\n",
    "    # 绘制热力图\n",
    "    heatmap = ax.pcolormesh(lon, lat, gt, cmap='hot', transform=ccrs.PlateCarree())\n",
    "\n",
    "    # 添加国家分界线\n",
    "    ax.add_feature(cfeature.BORDERS, linestyle=':', linewidth=0.5)\n",
    "    ax.add_feature(cfeature.COASTLINE, linewidth=0.5)\n",
    "\n",
    "    # 添加颜色条\n",
    "    cbar = plt.colorbar(heatmap, orientation='horizontal', pad=0.05, shrink=0.8)\n",
    "    cbar.set_label('Variable Value')\n",
    "\n",
    "    \n",
    "    plt.title('Global Heatmap with Latitude and Longitude')\n",
    "\n",
    "\n",
    "    ax.set_global()  # 确保地图显示完整的全球范围\n",
    "    ax.gridlines(draw_labels=True, linewidth=0.5, color='gray', alpha=0.5, linestyle='--')  # 添加网格线\n",
    "\n",
    "    # 调整地图的边界\n",
    "    ax.set_extent([-180, 180, -90, 90], crs=ccrs.PlateCarree())  # 设置地图范围为全球\n",
    "\n",
    "    # 保存图像\n",
    "    plt.savefig('global_heatmap.png', dpi=300, bbox_inches='tight')\n",
    "    plt.show()"
   ]
  }
 ],
 "metadata": {
  "kernelspec": {
   "display_name": "Python 3 (ipykernel)",
   "language": "python",
   "name": "python3"
  },
  "language_info": {
   "codemirror_mode": {
    "name": "ipython",
    "version": 3
   },
   "file_extension": ".py",
   "mimetype": "text/x-python",
   "name": "python",
   "nbconvert_exporter": "python",
   "pygments_lexer": "ipython3",
   "version": "3.8.18"
  }
 },
 "nbformat": 4,
 "nbformat_minor": 5
}
